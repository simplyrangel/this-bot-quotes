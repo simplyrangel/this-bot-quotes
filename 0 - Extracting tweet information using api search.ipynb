{
 "cells": [
  {
   "cell_type": "markdown",
   "metadata": {},
   "source": [
    "# Extracting tweet information using the Twitter API \n",
    "\n",
    "<hr style=\"border:2px solid gray\"> </hr>\n",
    "\n",
    "My Twitter bot's performance is not the best. Each tweet receives few impressions, and favorites and retweets are rare. I want to better understand how to engage the Twitter user base that values tweets about books and book-quotes. The most straightforward way I can think of to do so is to look at what book-and-bookquote tweets are most well received -- enter the Twitter API's search resources. \n",
    "\n",
    "## API search resources\n",
    "\n",
    "The Twitter API allows a user to search for tweets in as straightforward or as advanced  a manner as anyone could want. The API search resource URL is:\n",
    "\n",
    "`https://api.twitter.com/1.1/search/tweets.json`\n",
    "\n",
    "Twitter's API docs describe the required and optional parameters at the link below:\n",
    "\n",
    "https://developer.twitter.com/en/docs/twitter-api/v1/tweets/search/api-reference/get-search-tweets\n",
    "\n",
    "The API search takes a query -- q -- and returns the results in json format. The query must be in URL encoding. Below is a handy resource to understand how to encode special characters and text in general:\n",
    "\n",
    "https://www.w3schools.com/tags/ref_urlencode.ASP\n",
    "\n",
    "Further details on the API search:\n",
    "\n",
    "https://developer.twitter.com/en/docs/twitter-api/v1/tweets/search/guides/standard-operators\n",
    "\n",
    "And details on search operators:\n",
    "\n",
    "https://developer.twitter.com/en/docs/twitter-api/v1/rules-and-filtering/search-operators\n",
    "\n",
    "## Searching for bookquote-related tweets\n",
    "\n",
    "Twitter API limits the search's returned tweets to less than 100 from within the past seven days. I would like to search for the most popular tweets in this time frame, but the result_type's 'popular' option appears buggy. Let's look at tweets from the past week that:\n",
    "- contain the hashtags 'books' and 'bookquotes'\n",
    "- were not retweets\n",
    "- were written in the English language\n",
    "\n",
    "I will definitely expand these search parameters later, but for now they serve as a handy starting point and example. "
   ]
  },
  {
   "cell_type": "markdown",
   "metadata": {},
   "source": [
    "# Python search implementation\n",
    "\n",
    "I'll be using my standard Python data analysis libraries -- Numpy and Pandas for example. The Twitter API's resource URL's return requested data in json format, so I'll have to use Python's built-in json library. I've never used this library before, so it should be fun to figure out.  "
   ]
  },
  {
   "cell_type": "code",
   "execution_count": 1,
   "metadata": {},
   "outputs": [],
   "source": [
    "import numpy as np\n",
    "import pandas as pd\n",
    "import json\n",
    "from subprocess import Popen, PIPE\n",
    "import datetime"
   ]
  },
  {
   "cell_type": "markdown",
   "metadata": {},
   "source": [
    "Quering the API for search results is fairly straightforward once the query is URL encoded. Here I'm using 'twurl', but any other bash tool will do. "
   ]
  },
  {
   "cell_type": "code",
   "execution_count": 2,
   "metadata": {},
   "outputs": [],
   "source": [
    "# define search parameters:\n",
    "query = \"%23books+%23bookquotes+-filter%3Aretweets\" #URL encoding\n",
    "count = 100 #max number available\n",
    "result_type = \"recent\" \n",
    "\n",
    "# place search parameters into the appropriate URL:\n",
    "url = \"{api}?q={q}&result_type={result_type}&count={count}&tweet_mode=extended&include_entities=True\".format(\n",
    "    api=\"/1.1/search/tweets.json\",\n",
    "    q=query,\n",
    "    result_type=result_type,\n",
    "    count=count)\n",
    "\n",
    "# create process:\n",
    "cmd = [\"twurl\",url]\n",
    "process = Popen(cmd,stdout=PIPE,stderr=PIPE)\n",
    "stdout,stderr = process.communicate()"
   ]
  },
  {
   "cell_type": "markdown",
   "metadata": {},
   "source": [
    "## Understanding output from /1.1/search/tweets.json\n",
    "The API tweet search returns a collection of relevant tweets matching the specific inquery. The Python subprocess returns a 'bytes' object. The object is made more user-friendly with the json Python library. json.loads() is used to deserialize the bytes instance into a Python object. "
   ]
  },
  {
   "cell_type": "code",
   "execution_count": 3,
   "metadata": {},
   "outputs": [],
   "source": [
    "output = json.loads(stdout)"
   ]
  },
  {
   "cell_type": "markdown",
   "metadata": {},
   "source": [
    "json.loads() returns a Python dictionary with two key-item pairs:\n",
    "1. The 'statuses' key contains the search's resultant json objects\n",
    "2. The 'search_metadata' key contains the search's metadata\n",
    "\n",
    "'search_metadata' is a straightforward dictionary with basic information about the completed search. "
   ]
  },
  {
   "cell_type": "code",
   "execution_count": 4,
   "metadata": {},
   "outputs": [
    {
     "data": {
      "text/plain": [
       "{'completed_in': 0.084,\n",
       " 'max_id': 1345441486255632390,\n",
       " 'max_id_str': '1345441486255632390',\n",
       " 'next_results': '?max_id=1342562577361084417&q=%23books%20%23bookquotes%20-filter%3Aretweets&count=100&include_entities=1&result_type=recent',\n",
       " 'query': '%23books+%23bookquotes+-filter%3Aretweets',\n",
       " 'refresh_url': '?since_id=1345441486255632390&q=%23books%20%23bookquotes%20-filter%3Aretweets&result_type=recent&include_entities=1',\n",
       " 'count': 100,\n",
       " 'since_id': 0,\n",
       " 'since_id_str': '0'}"
      ]
     },
     "execution_count": 4,
     "metadata": {},
     "output_type": "execute_result"
    }
   ],
   "source": [
    "output[\"search_metadata\"]"
   ]
  },
  {
   "cell_type": "markdown",
   "metadata": {},
   "source": [
    "'statuses' is a Python list of Python dictionaries. Each dictionary contains a mess of other nested dictionaries, strings, and other types. Let's take a closer look at the key-item pairs. "
   ]
  },
  {
   "cell_type": "code",
   "execution_count": 5,
   "metadata": {
    "scrolled": true
   },
   "outputs": [
    {
     "data": {
      "text/html": [
       "<div>\n",
       "<style scoped>\n",
       "    .dataframe tbody tr th:only-of-type {\n",
       "        vertical-align: middle;\n",
       "    }\n",
       "\n",
       "    .dataframe tbody tr th {\n",
       "        vertical-align: top;\n",
       "    }\n",
       "\n",
       "    .dataframe thead th {\n",
       "        text-align: right;\n",
       "    }\n",
       "</style>\n",
       "<table border=\"1\" class=\"dataframe\">\n",
       "  <thead>\n",
       "    <tr style=\"text-align: right;\">\n",
       "      <th></th>\n",
       "      <th>key</th>\n",
       "      <th>item type</th>\n",
       "    </tr>\n",
       "  </thead>\n",
       "  <tbody>\n",
       "    <tr>\n",
       "      <td>0</td>\n",
       "      <td>created_at</td>\n",
       "      <td>&lt;class 'str'&gt;</td>\n",
       "    </tr>\n",
       "    <tr>\n",
       "      <td>1</td>\n",
       "      <td>id</td>\n",
       "      <td>&lt;class 'int'&gt;</td>\n",
       "    </tr>\n",
       "    <tr>\n",
       "      <td>2</td>\n",
       "      <td>id_str</td>\n",
       "      <td>&lt;class 'str'&gt;</td>\n",
       "    </tr>\n",
       "    <tr>\n",
       "      <td>3</td>\n",
       "      <td>full_text</td>\n",
       "      <td>&lt;class 'str'&gt;</td>\n",
       "    </tr>\n",
       "    <tr>\n",
       "      <td>4</td>\n",
       "      <td>truncated</td>\n",
       "      <td>&lt;class 'bool'&gt;</td>\n",
       "    </tr>\n",
       "    <tr>\n",
       "      <td>5</td>\n",
       "      <td>display_text_range</td>\n",
       "      <td>&lt;class 'list'&gt;</td>\n",
       "    </tr>\n",
       "    <tr>\n",
       "      <td>6</td>\n",
       "      <td>entities</td>\n",
       "      <td>&lt;class 'dict'&gt;</td>\n",
       "    </tr>\n",
       "    <tr>\n",
       "      <td>7</td>\n",
       "      <td>extended_entities</td>\n",
       "      <td>&lt;class 'dict'&gt;</td>\n",
       "    </tr>\n",
       "    <tr>\n",
       "      <td>8</td>\n",
       "      <td>metadata</td>\n",
       "      <td>&lt;class 'dict'&gt;</td>\n",
       "    </tr>\n",
       "    <tr>\n",
       "      <td>9</td>\n",
       "      <td>source</td>\n",
       "      <td>&lt;class 'str'&gt;</td>\n",
       "    </tr>\n",
       "    <tr>\n",
       "      <td>10</td>\n",
       "      <td>in_reply_to_status_id</td>\n",
       "      <td>&lt;class 'NoneType'&gt;</td>\n",
       "    </tr>\n",
       "    <tr>\n",
       "      <td>11</td>\n",
       "      <td>in_reply_to_status_id_str</td>\n",
       "      <td>&lt;class 'NoneType'&gt;</td>\n",
       "    </tr>\n",
       "    <tr>\n",
       "      <td>12</td>\n",
       "      <td>in_reply_to_user_id</td>\n",
       "      <td>&lt;class 'NoneType'&gt;</td>\n",
       "    </tr>\n",
       "    <tr>\n",
       "      <td>13</td>\n",
       "      <td>in_reply_to_user_id_str</td>\n",
       "      <td>&lt;class 'NoneType'&gt;</td>\n",
       "    </tr>\n",
       "    <tr>\n",
       "      <td>14</td>\n",
       "      <td>in_reply_to_screen_name</td>\n",
       "      <td>&lt;class 'NoneType'&gt;</td>\n",
       "    </tr>\n",
       "    <tr>\n",
       "      <td>15</td>\n",
       "      <td>user</td>\n",
       "      <td>&lt;class 'dict'&gt;</td>\n",
       "    </tr>\n",
       "    <tr>\n",
       "      <td>16</td>\n",
       "      <td>geo</td>\n",
       "      <td>&lt;class 'NoneType'&gt;</td>\n",
       "    </tr>\n",
       "    <tr>\n",
       "      <td>17</td>\n",
       "      <td>coordinates</td>\n",
       "      <td>&lt;class 'NoneType'&gt;</td>\n",
       "    </tr>\n",
       "    <tr>\n",
       "      <td>18</td>\n",
       "      <td>place</td>\n",
       "      <td>&lt;class 'NoneType'&gt;</td>\n",
       "    </tr>\n",
       "    <tr>\n",
       "      <td>19</td>\n",
       "      <td>contributors</td>\n",
       "      <td>&lt;class 'NoneType'&gt;</td>\n",
       "    </tr>\n",
       "    <tr>\n",
       "      <td>20</td>\n",
       "      <td>is_quote_status</td>\n",
       "      <td>&lt;class 'bool'&gt;</td>\n",
       "    </tr>\n",
       "    <tr>\n",
       "      <td>21</td>\n",
       "      <td>retweet_count</td>\n",
       "      <td>&lt;class 'int'&gt;</td>\n",
       "    </tr>\n",
       "    <tr>\n",
       "      <td>22</td>\n",
       "      <td>favorite_count</td>\n",
       "      <td>&lt;class 'int'&gt;</td>\n",
       "    </tr>\n",
       "    <tr>\n",
       "      <td>23</td>\n",
       "      <td>favorited</td>\n",
       "      <td>&lt;class 'bool'&gt;</td>\n",
       "    </tr>\n",
       "    <tr>\n",
       "      <td>24</td>\n",
       "      <td>retweeted</td>\n",
       "      <td>&lt;class 'bool'&gt;</td>\n",
       "    </tr>\n",
       "    <tr>\n",
       "      <td>25</td>\n",
       "      <td>possibly_sensitive</td>\n",
       "      <td>&lt;class 'bool'&gt;</td>\n",
       "    </tr>\n",
       "    <tr>\n",
       "      <td>26</td>\n",
       "      <td>lang</td>\n",
       "      <td>&lt;class 'str'&gt;</td>\n",
       "    </tr>\n",
       "  </tbody>\n",
       "</table>\n",
       "</div>"
      ],
      "text/plain": [
       "                          key           item type\n",
       "0                  created_at       <class 'str'>\n",
       "1                          id       <class 'int'>\n",
       "2                      id_str       <class 'str'>\n",
       "3                   full_text       <class 'str'>\n",
       "4                   truncated      <class 'bool'>\n",
       "5          display_text_range      <class 'list'>\n",
       "6                    entities      <class 'dict'>\n",
       "7           extended_entities      <class 'dict'>\n",
       "8                    metadata      <class 'dict'>\n",
       "9                      source       <class 'str'>\n",
       "10      in_reply_to_status_id  <class 'NoneType'>\n",
       "11  in_reply_to_status_id_str  <class 'NoneType'>\n",
       "12        in_reply_to_user_id  <class 'NoneType'>\n",
       "13    in_reply_to_user_id_str  <class 'NoneType'>\n",
       "14    in_reply_to_screen_name  <class 'NoneType'>\n",
       "15                       user      <class 'dict'>\n",
       "16                        geo  <class 'NoneType'>\n",
       "17                coordinates  <class 'NoneType'>\n",
       "18                      place  <class 'NoneType'>\n",
       "19               contributors  <class 'NoneType'>\n",
       "20            is_quote_status      <class 'bool'>\n",
       "21              retweet_count       <class 'int'>\n",
       "22             favorite_count       <class 'int'>\n",
       "23                  favorited      <class 'bool'>\n",
       "24                  retweeted      <class 'bool'>\n",
       "25         possibly_sensitive      <class 'bool'>\n",
       "26                       lang       <class 'str'>"
      ]
     },
     "execution_count": 5,
     "metadata": {},
     "output_type": "execute_result"
    }
   ],
   "source": [
    "keys,items = [],[]\n",
    "for key, item in output[\"statuses\"][0].items():\n",
    "    keys.append(key)\n",
    "    items.append(type(item))\n",
    "\n",
    "# output the key-item information as a Pandas dictionary for \n",
    "# easy viewing:\n",
    "pd.DataFrame(\n",
    "    [keys,items],\n",
    "    index=[\"key\",\"item type\"]\n",
    "    ).transpose()"
   ]
  },
  {
   "cell_type": "code",
   "execution_count": 6,
   "metadata": {
    "scrolled": true
   },
   "outputs": [
    {
     "data": {
      "text/plain": [
       "{'created_at': 'Sat Jan 02 18:47:02 +0000 2021',\n",
       " 'id': 1345441486255632390,\n",
       " 'id_str': '1345441486255632390',\n",
       " 'full_text': 'Let\\'s play a game! Name that book! (hint: It\\'s not one of mine!)\\n\\n\"There is some good in this world ... and it\\'s worth fighting for.\" \\n\\n#NewYear #trynewthings #novelinteractives #bookquotes #quote #books #reading #read #namethatbook https://t.co/XVt17WKodl',\n",
       " 'truncated': False,\n",
       " 'display_text_range': [0, 232],\n",
       " 'entities': {'hashtags': [{'text': 'NewYear', 'indices': [136, 144]},\n",
       "   {'text': 'trynewthings', 'indices': [145, 158]},\n",
       "   {'text': 'novelinteractives', 'indices': [159, 177]},\n",
       "   {'text': 'bookquotes', 'indices': [178, 189]},\n",
       "   {'text': 'quote', 'indices': [190, 196]},\n",
       "   {'text': 'books', 'indices': [197, 203]},\n",
       "   {'text': 'reading', 'indices': [204, 212]},\n",
       "   {'text': 'read', 'indices': [213, 218]},\n",
       "   {'text': 'namethatbook', 'indices': [219, 232]}],\n",
       "  'symbols': [],\n",
       "  'user_mentions': [],\n",
       "  'urls': [],\n",
       "  'media': [{'id': 1345441484695347200,\n",
       "    'id_str': '1345441484695347200',\n",
       "    'indices': [233, 256],\n",
       "    'media_url': 'http://pbs.twimg.com/media/Eqv35uFXIAAeYbm.jpg',\n",
       "    'media_url_https': 'https://pbs.twimg.com/media/Eqv35uFXIAAeYbm.jpg',\n",
       "    'url': 'https://t.co/XVt17WKodl',\n",
       "    'display_url': 'pic.twitter.com/XVt17WKodl',\n",
       "    'expanded_url': 'https://twitter.com/mmadiganauthor/status/1345441486255632390/photo/1',\n",
       "    'type': 'photo',\n",
       "    'sizes': {'thumb': {'w': 150, 'h': 150, 'resize': 'crop'},\n",
       "     'small': {'w': 680, 'h': 680, 'resize': 'fit'},\n",
       "     'large': {'w': 1000, 'h': 1000, 'resize': 'fit'},\n",
       "     'medium': {'w': 1000, 'h': 1000, 'resize': 'fit'}}}]},\n",
       " 'extended_entities': {'media': [{'id': 1345441484695347200,\n",
       "    'id_str': '1345441484695347200',\n",
       "    'indices': [233, 256],\n",
       "    'media_url': 'http://pbs.twimg.com/media/Eqv35uFXIAAeYbm.jpg',\n",
       "    'media_url_https': 'https://pbs.twimg.com/media/Eqv35uFXIAAeYbm.jpg',\n",
       "    'url': 'https://t.co/XVt17WKodl',\n",
       "    'display_url': 'pic.twitter.com/XVt17WKodl',\n",
       "    'expanded_url': 'https://twitter.com/mmadiganauthor/status/1345441486255632390/photo/1',\n",
       "    'type': 'photo',\n",
       "    'sizes': {'thumb': {'w': 150, 'h': 150, 'resize': 'crop'},\n",
       "     'small': {'w': 680, 'h': 680, 'resize': 'fit'},\n",
       "     'large': {'w': 1000, 'h': 1000, 'resize': 'fit'},\n",
       "     'medium': {'w': 1000, 'h': 1000, 'resize': 'fit'}}}]},\n",
       " 'metadata': {'iso_language_code': 'en', 'result_type': 'recent'},\n",
       " 'source': '<a href=\"https://buffer.com\" rel=\"nofollow\">Buffer</a>',\n",
       " 'in_reply_to_status_id': None,\n",
       " 'in_reply_to_status_id_str': None,\n",
       " 'in_reply_to_user_id': None,\n",
       " 'in_reply_to_user_id_str': None,\n",
       " 'in_reply_to_screen_name': None,\n",
       " 'user': {'id': 1119898704,\n",
       "  'id_str': '1119898704',\n",
       "  'name': 'Margaret Madigan, MFA',\n",
       "  'screen_name': 'mmadiganauthor',\n",
       "  'location': '',\n",
       "  'description': 'Author. English Instructor. Oregon Ducks fan. Donut and pastry addict. Raging against the patriarchy. she/her.  Instagram: mmadiganauthor. #indieauthor',\n",
       "  'url': 'https://t.co/SBYOsbRLz0',\n",
       "  'entities': {'url': {'urls': [{'url': 'https://t.co/SBYOsbRLz0',\n",
       "      'expanded_url': 'http://margaretmadigan.com',\n",
       "      'display_url': 'margaretmadigan.com',\n",
       "      'indices': [0, 23]}]},\n",
       "   'description': {'urls': []}},\n",
       "  'protected': False,\n",
       "  'followers_count': 702,\n",
       "  'friends_count': 605,\n",
       "  'listed_count': 35,\n",
       "  'created_at': 'Fri Jan 25 17:56:17 +0000 2013',\n",
       "  'favourites_count': 143265,\n",
       "  'utc_offset': None,\n",
       "  'time_zone': None,\n",
       "  'geo_enabled': False,\n",
       "  'verified': False,\n",
       "  'statuses_count': 5769,\n",
       "  'lang': None,\n",
       "  'contributors_enabled': False,\n",
       "  'is_translator': False,\n",
       "  'is_translation_enabled': False,\n",
       "  'profile_background_color': '000000',\n",
       "  'profile_background_image_url': 'http://abs.twimg.com/images/themes/theme13/bg.gif',\n",
       "  'profile_background_image_url_https': 'https://abs.twimg.com/images/themes/theme13/bg.gif',\n",
       "  'profile_background_tile': False,\n",
       "  'profile_image_url': 'http://pbs.twimg.com/profile_images/1058777744178212865/D6jH_eaw_normal.jpg',\n",
       "  'profile_image_url_https': 'https://pbs.twimg.com/profile_images/1058777744178212865/D6jH_eaw_normal.jpg',\n",
       "  'profile_banner_url': 'https://pbs.twimg.com/profile_banners/1119898704/1569378929',\n",
       "  'profile_link_color': '0AAD23',\n",
       "  'profile_sidebar_border_color': '000000',\n",
       "  'profile_sidebar_fill_color': '000000',\n",
       "  'profile_text_color': '000000',\n",
       "  'profile_use_background_image': False,\n",
       "  'has_extended_profile': False,\n",
       "  'default_profile': False,\n",
       "  'default_profile_image': False,\n",
       "  'following': False,\n",
       "  'follow_request_sent': False,\n",
       "  'notifications': False,\n",
       "  'translator_type': 'none'},\n",
       " 'geo': None,\n",
       " 'coordinates': None,\n",
       " 'place': None,\n",
       " 'contributors': None,\n",
       " 'is_quote_status': False,\n",
       " 'retweet_count': 0,\n",
       " 'favorite_count': 0,\n",
       " 'favorited': False,\n",
       " 'retweeted': False,\n",
       " 'possibly_sensitive': False,\n",
       " 'lang': 'en'}"
      ]
     },
     "execution_count": 6,
     "metadata": {},
     "output_type": "execute_result"
    }
   ],
   "source": [
    "output[\"statuses\"][0]"
   ]
  },
  {
   "cell_type": "markdown",
   "metadata": {},
   "source": [
    "# Process search results\n",
    "Let's judge a tweet's success by its number of retweets and its number of favorites. We are also interested in what was in the tweet text (number of hashtags, length, etc), what time and day of the week the tweet was made, and whether or not an image was attached. The corresponding output dictionary keys to most of these parameters are:\n",
    "- retweet_count\n",
    "- favorite_count\n",
    "- full_text\n",
    "- created_at\n",
    "- id\n",
    "\n",
    "Information about the media contained in the search's output is accessed via the 'entities' key. The 'entities' key accesses a dictionary that contains tweet hashtag and attachment information. "
   ]
  },
  {
   "cell_type": "code",
   "execution_count": 7,
   "metadata": {},
   "outputs": [
    {
     "data": {
      "text/plain": [
       "{'hashtags': [{'text': 'NewYear', 'indices': [136, 144]},\n",
       "  {'text': 'trynewthings', 'indices': [145, 158]},\n",
       "  {'text': 'novelinteractives', 'indices': [159, 177]},\n",
       "  {'text': 'bookquotes', 'indices': [178, 189]},\n",
       "  {'text': 'quote', 'indices': [190, 196]},\n",
       "  {'text': 'books', 'indices': [197, 203]},\n",
       "  {'text': 'reading', 'indices': [204, 212]},\n",
       "  {'text': 'read', 'indices': [213, 218]},\n",
       "  {'text': 'namethatbook', 'indices': [219, 232]}],\n",
       " 'symbols': [],\n",
       " 'user_mentions': [],\n",
       " 'urls': [],\n",
       " 'media': [{'id': 1345441484695347200,\n",
       "   'id_str': '1345441484695347200',\n",
       "   'indices': [233, 256],\n",
       "   'media_url': 'http://pbs.twimg.com/media/Eqv35uFXIAAeYbm.jpg',\n",
       "   'media_url_https': 'https://pbs.twimg.com/media/Eqv35uFXIAAeYbm.jpg',\n",
       "   'url': 'https://t.co/XVt17WKodl',\n",
       "   'display_url': 'pic.twitter.com/XVt17WKodl',\n",
       "   'expanded_url': 'https://twitter.com/mmadiganauthor/status/1345441486255632390/photo/1',\n",
       "   'type': 'photo',\n",
       "   'sizes': {'thumb': {'w': 150, 'h': 150, 'resize': 'crop'},\n",
       "    'small': {'w': 680, 'h': 680, 'resize': 'fit'},\n",
       "    'large': {'w': 1000, 'h': 1000, 'resize': 'fit'},\n",
       "    'medium': {'w': 1000, 'h': 1000, 'resize': 'fit'}}}]}"
      ]
     },
     "execution_count": 7,
     "metadata": {},
     "output_type": "execute_result"
    }
   ],
   "source": [
    "output[\"statuses\"][0][\"entities\"]"
   ]
  },
  {
   "cell_type": "markdown",
   "metadata": {},
   "source": [
    "The 'media' key within 'entities' is a list of the attachment media. The list's items are themselves dictionaries. "
   ]
  },
  {
   "cell_type": "code",
   "execution_count": 16,
   "metadata": {},
   "outputs": [
    {
     "data": {
      "text/plain": [
       "{'id': 1345441484695347200,\n",
       " 'id_str': '1345441484695347200',\n",
       " 'indices': [233, 256],\n",
       " 'media_url': 'http://pbs.twimg.com/media/Eqv35uFXIAAeYbm.jpg',\n",
       " 'media_url_https': 'https://pbs.twimg.com/media/Eqv35uFXIAAeYbm.jpg',\n",
       " 'url': 'https://t.co/XVt17WKodl',\n",
       " 'display_url': 'pic.twitter.com/XVt17WKodl',\n",
       " 'expanded_url': 'https://twitter.com/mmadiganauthor/status/1345441486255632390/photo/1',\n",
       " 'type': 'photo',\n",
       " 'sizes': {'thumb': {'w': 150, 'h': 150, 'resize': 'crop'},\n",
       "  'small': {'w': 680, 'h': 680, 'resize': 'fit'},\n",
       "  'large': {'w': 1000, 'h': 1000, 'resize': 'fit'},\n",
       "  'medium': {'w': 1000, 'h': 1000, 'resize': 'fit'}}}"
      ]
     },
     "execution_count": 16,
     "metadata": {},
     "output_type": "execute_result"
    }
   ],
   "source": [
    "output[\"statuses\"][0][\"entities\"][\"media\"][0]"
   ]
  },
  {
   "cell_type": "markdown",
   "metadata": {},
   "source": [
    "The 'type' key returns the media type."
   ]
  },
  {
   "cell_type": "code",
   "execution_count": 9,
   "metadata": {},
   "outputs": [
    {
     "data": {
      "text/plain": [
       "'photo'"
      ]
     },
     "execution_count": 9,
     "metadata": {},
     "output_type": "execute_result"
    }
   ],
   "source": [
    "output[\"statuses\"][0][\"entities\"][\"media\"][0][\"type\"]"
   ]
  },
  {
   "cell_type": "markdown",
   "metadata": {},
   "source": [
    "Let's extract the relevant information and store them in a Pandas' dataframe."
   ]
  },
  {
   "cell_type": "code",
   "execution_count": 17,
   "metadata": {},
   "outputs": [
    {
     "data": {
      "text/html": [
       "<div>\n",
       "<style scoped>\n",
       "    .dataframe tbody tr th:only-of-type {\n",
       "        vertical-align: middle;\n",
       "    }\n",
       "\n",
       "    .dataframe tbody tr th {\n",
       "        vertical-align: top;\n",
       "    }\n",
       "\n",
       "    .dataframe thead th {\n",
       "        text-align: right;\n",
       "    }\n",
       "</style>\n",
       "<table border=\"1\" class=\"dataframe\">\n",
       "  <thead>\n",
       "    <tr style=\"text-align: right;\">\n",
       "      <th></th>\n",
       "      <th>tweet_id</th>\n",
       "      <th>tweet_datetime</th>\n",
       "      <th>tweet_body</th>\n",
       "      <th>tweet_media</th>\n",
       "      <th>num_retweets</th>\n",
       "      <th>num_favorites</th>\n",
       "    </tr>\n",
       "  </thead>\n",
       "  <tbody>\n",
       "    <tr>\n",
       "      <td>0</td>\n",
       "      <td>1345441486255632390</td>\n",
       "      <td>2021-01-02 18:47:02</td>\n",
       "      <td>Let's play a game! Name that book! (hint: It's...</td>\n",
       "      <td>photo</td>\n",
       "      <td>0</td>\n",
       "      <td>0</td>\n",
       "    </tr>\n",
       "    <tr>\n",
       "      <td>1</td>\n",
       "      <td>1345357236084690944</td>\n",
       "      <td>2021-01-02 13:12:15</td>\n",
       "      <td>Them - \"Books are boring!\"\\nMe - *blocked*\\n\\n...</td>\n",
       "      <td>photo</td>\n",
       "      <td>0</td>\n",
       "      <td>3</td>\n",
       "    </tr>\n",
       "    <tr>\n",
       "      <td>2</td>\n",
       "      <td>1345344159029354497</td>\n",
       "      <td>2021-01-02 12:20:17</td>\n",
       "      <td>#nortonjuster #thephantomtollbooth #bookstagra...</td>\n",
       "      <td>photo</td>\n",
       "      <td>0</td>\n",
       "      <td>4</td>\n",
       "    </tr>\n",
       "    <tr>\n",
       "      <td>3</td>\n",
       "      <td>1345255530193965056</td>\n",
       "      <td>2021-01-02 06:28:06</td>\n",
       "      <td>#mythsandmusic #blackmagickseries #books #whit...</td>\n",
       "      <td>photo</td>\n",
       "      <td>0</td>\n",
       "      <td>0</td>\n",
       "    </tr>\n",
       "    <tr>\n",
       "      <td>4</td>\n",
       "      <td>1345203214329782276</td>\n",
       "      <td>2021-01-02 03:00:13</td>\n",
       "      <td>“Great writing, great action, great characters...</td>\n",
       "      <td>photo</td>\n",
       "      <td>1</td>\n",
       "      <td>0</td>\n",
       "    </tr>\n",
       "  </tbody>\n",
       "</table>\n",
       "</div>"
      ],
      "text/plain": [
       "              tweet_id      tweet_datetime  \\\n",
       "0  1345441486255632390 2021-01-02 18:47:02   \n",
       "1  1345357236084690944 2021-01-02 13:12:15   \n",
       "2  1345344159029354497 2021-01-02 12:20:17   \n",
       "3  1345255530193965056 2021-01-02 06:28:06   \n",
       "4  1345203214329782276 2021-01-02 03:00:13   \n",
       "\n",
       "                                          tweet_body tweet_media num_retweets  \\\n",
       "0  Let's play a game! Name that book! (hint: It's...       photo            0   \n",
       "1  Them - \"Books are boring!\"\\nMe - *blocked*\\n\\n...       photo            0   \n",
       "2  #nortonjuster #thephantomtollbooth #bookstagra...       photo            0   \n",
       "3  #mythsandmusic #blackmagickseries #books #whit...       photo            0   \n",
       "4  “Great writing, great action, great characters...       photo            1   \n",
       "\n",
       "  num_favorites  \n",
       "0             0  \n",
       "1             3  \n",
       "2             4  \n",
       "3             0  \n",
       "4             0  "
      ]
     },
     "execution_count": 17,
     "metadata": {},
     "output_type": "execute_result"
    }
   ],
   "source": [
    "def extract_page_data(statuses):\n",
    "    tweet_id = []\n",
    "    tweet_datetime = []\n",
    "    tweet_body = []\n",
    "    tweet_media_type = []\n",
    "    retweets = []\n",
    "    favorites = []\n",
    "    for tweet in statuses:\n",
    "\n",
    "        # convert 'created_at' to datetime object:    \n",
    "        aware_utc = datetime.datetime.strptime(\n",
    "            tweet[\"created_at\"],\n",
    "            \"%a %b %d %H:%M:%S %z %Y\")\n",
    "        naive_utc = aware_utc.replace(tzinfo=None)\n",
    "\n",
    "        # store basic tweet info:\n",
    "        tweet_id.append(tweet[\"id\"])\n",
    "        tweet_datetime.append(naive_utc)\n",
    "        tweet_body.append(tweet[\"full_text\"])\n",
    "\n",
    "        # store tweet retweets and favorites:\n",
    "        retweets.append(tweet[\"retweet_count\"])\n",
    "        favorites.append(tweet[\"favorite_count\"])\n",
    "\n",
    "        # store media type attachment:\n",
    "        try:\n",
    "            media = tweet[\"entities\"][\"media\"]\n",
    "            media_list = []\n",
    "            for mm in media:\n",
    "                media_list.append(mm[\"type\"])\n",
    "            tweet_media_type.append(\";\".join(media_list))\n",
    "\n",
    "        except:\n",
    "            tweet_media_type.append(np.nan)\n",
    "\n",
    "    # return Pandas' Dataframe:\n",
    "    data = [\n",
    "        tweet_id,\n",
    "        tweet_datetime,\n",
    "        tweet_body,\n",
    "        tweet_media_type,\n",
    "        retweets,\n",
    "        favorites,\n",
    "        ]\n",
    "    index = [\n",
    "        \"tweet_id\",\n",
    "        \"tweet_datetime\",\n",
    "        \"tweet_body\",\n",
    "        \"tweet_media\",\n",
    "        \"num_retweets\",\n",
    "        \"num_favorites\"\n",
    "        ]\n",
    "    return pd.DataFrame(data,index=index).transpose()\n",
    "\n",
    "# display results:\n",
    "results = extract_page_data(output[\"statuses\"])\n",
    "results.head()"
   ]
  },
  {
   "cell_type": "markdown",
   "metadata": {},
   "source": [
    "# Iterate over search results pages\n",
    "\n",
    "The search results will often exceed the 100-tweet limit imposed by the API. The result's metadata provides a way to query the API recursively until the search is complete with 'next_results'. \n",
    "\n",
    "Here is the search metadata object again: "
   ]
  },
  {
   "cell_type": "code",
   "execution_count": 11,
   "metadata": {},
   "outputs": [
    {
     "data": {
      "text/plain": [
       "{'completed_in': 0.084,\n",
       " 'max_id': 1345441486255632390,\n",
       " 'max_id_str': '1345441486255632390',\n",
       " 'next_results': '?max_id=1342562577361084417&q=%23books%20%23bookquotes%20-filter%3Aretweets&count=100&include_entities=1&result_type=recent',\n",
       " 'query': '%23books+%23bookquotes+-filter%3Aretweets',\n",
       " 'refresh_url': '?since_id=1345441486255632390&q=%23books%20%23bookquotes%20-filter%3Aretweets&result_type=recent&include_entities=1',\n",
       " 'count': 100,\n",
       " 'since_id': 0,\n",
       " 'since_id_str': '0'}"
      ]
     },
     "execution_count": 11,
     "metadata": {},
     "output_type": "execute_result"
    }
   ],
   "source": [
    "output[\"search_metadata\"]"
   ]
  },
  {
   "cell_type": "markdown",
   "metadata": {},
   "source": [
    "'next_results' contains an API search query that will provide the next block of tweets from the search."
   ]
  },
  {
   "cell_type": "code",
   "execution_count": 19,
   "metadata": {},
   "outputs": [
    {
     "data": {
      "text/plain": [
       "'?max_id=1342562577361084417&q=%23books%20%23bookquotes%20-filter%3Aretweets&count=100&include_entities=1&result_type=recent'"
      ]
     },
     "execution_count": 19,
     "metadata": {},
     "output_type": "execute_result"
    }
   ],
   "source": [
    "output[\"search_metadata\"][\"next_results\"]"
   ]
  },
  {
   "cell_type": "markdown",
   "metadata": {},
   "source": [
    "In this example's case, the search results did not exceed 100 tweets so the 'next_results' query returns an empty results object. "
   ]
  },
  {
   "cell_type": "code",
   "execution_count": 12,
   "metadata": {},
   "outputs": [],
   "source": [
    "next_results = output[\"search_metadata\"][\"next_results\"]\n",
    "url = \"/1.1/search/tweets.json%s\" %next_results\n",
    "cmd = [\"twurl\",url]\n",
    "process = Popen(cmd,stdout=PIPE,stderr=PIPE)\n",
    "stdout,stderr = process.communicate()\n",
    "output2 = json.loads(stdout)\n",
    "#results2 = extract_page_data(output2[\"statuses\"])\n",
    "#results2"
   ]
  },
  {
   "cell_type": "code",
   "execution_count": 14,
   "metadata": {},
   "outputs": [
    {
     "data": {
      "text/plain": [
       "{'statuses': [],\n",
       " 'search_metadata': {'completed_in': 0.008,\n",
       "  'max_id': 1342562577361084417,\n",
       "  'max_id_str': '1342562577361084417',\n",
       "  'query': '%23books+%23bookquotes+-filter%3Aretweets',\n",
       "  'refresh_url': '?since_id=1342562577361084417&q=%23books%20%23bookquotes%20-filter%3Aretweets&result_type=recent&include_entities=1',\n",
       "  'count': 100,\n",
       "  'since_id': 0,\n",
       "  'since_id_str': '0'}}"
      ]
     },
     "execution_count": 14,
     "metadata": {},
     "output_type": "execute_result"
    }
   ],
   "source": [
    "output2"
   ]
  },
  {
   "cell_type": "code",
   "execution_count": null,
   "metadata": {},
   "outputs": [],
   "source": []
  }
 ],
 "metadata": {
  "kernelspec": {
   "display_name": "Python 3",
   "language": "python",
   "name": "python3"
  },
  "language_info": {
   "codemirror_mode": {
    "name": "ipython",
    "version": 3
   },
   "file_extension": ".py",
   "mimetype": "text/x-python",
   "name": "python",
   "nbconvert_exporter": "python",
   "pygments_lexer": "ipython3",
   "version": "3.7.4"
  }
 },
 "nbformat": 4,
 "nbformat_minor": 2
}
